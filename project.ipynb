{
 "cells": [
  {
   "cell_type": "code",
   "execution_count": 1,
   "metadata": {},
   "outputs": [],
   "source": [
    "# allocate memory\n",
    "from pyspark.sql import SparkSession\n",
    "\n",
    "spark = SparkSession.builder \\\n",
    "    .master('local[*]') \\\n",
    "    .config(\"spark.driver.memory\", \"32g\") \\\n",
    "    .appName('my-cool-app') \\\n",
    "    .getOrCreate()"
   ]
  },
  {
   "cell_type": "code",
   "execution_count": 2,
   "metadata": {},
   "outputs": [
    {
     "name": "stdout",
     "output_type": "stream",
     "text": [
      "Welcome to\n",
      "      ____              __\n",
      "     / __/__  ___ _____/ /__\n",
      "    _\\ \\/ _ \\/ _ `/ __/  '_/\n",
      "   /__ / .__/\\_,_/_/ /_/\\_\\   version 3.0.1\n",
      "      /_/\n",
      "\n",
      "Using Python version 3.8.3 (default, Jul  2 2020 17:30:36)\n",
      "SparkSession available as 'spark'.\n"
     ]
    }
   ],
   "source": [
    "import os    \n",
    "import findspark\n",
    "import re\n",
    "from functools import reduce\n",
    "from tqdm import tqdm\n",
    "import seaborn as sns\n",
    "import matplotlib.pyplot as plt\n",
    "%matplotlib inline\n",
    "\n",
    "os.environ['SPARK_HOME'] = 'C:\\\\Users\\\\msi\\\\Desktop\\\\spark\\\\spark-3.0.1-bin-hadoop3.2'\n",
    "findspark.init()\n",
    "exec(open(os.path.join(os.environ[\"SPARK_HOME\"], 'python/pyspark/shell.py')).read())"
   ]
  },
  {
   "cell_type": "code",
   "execution_count": 3,
   "metadata": {},
   "outputs": [],
   "source": [
    "from pyspark.ml.feature import OneHotEncoder, StringIndexer, StandardScaler, VectorAssembler, VectorSlicer, PCA\n",
    "from pyspark.ml import Pipeline\n",
    "from pyspark.ml.classification import LogisticRegression, LinearSVC, NaiveBayes, DecisionTreeClassifier\n",
    "from pyspark.ml.functions import vector_to_array\n",
    "from pyspark.sql.functions import col, lit, udf, mean as _mean, isnan, sum as _sum, log as _log, when\n",
    "from pyspark.ml.clustering import KMeans\n",
    "from pyspark.sql.types import FloatType, ArrayType, IntegerType\n",
    "from pyspark.sql import DataFrame\n",
    "from pyspark.ml.tuning import ParamGridBuilder, CrossValidator\n",
    "from pyspark.ml.evaluation import Evaluator"
   ]
  },
  {
   "cell_type": "markdown",
   "metadata": {},
   "source": [
    "## Load Train, Target, Test data"
   ]
  },
  {
   "cell_type": "code",
   "execution_count": 4,
   "metadata": {},
   "outputs": [],
   "source": [
    "train_df= spark.read.csv('C:\\\\Users\\\\msi\\\\Onedrive\\\\MOA\\\\train_features.csv', header=True, inferSchema=True)\n",
    "target_df = spark.read.csv('C:\\\\Users\\\\msi\\\\Onedrive\\\\MOA\\\\train_targets_scored.csv', header=True, inferSchema=True)\n",
    "test_df = spark.read.csv('C:\\\\Users\\\\msi\\\\Onedrive\\\\MOA\\\\test_features.csv', header=True, inferSchema=True)"
   ]
  },
  {
   "cell_type": "markdown",
   "metadata": {},
   "source": [
    "## Preprocess and Feature engineering"
   ]
  },
  {
   "cell_type": "code",
   "execution_count": 5,
   "metadata": {
    "scrolled": true
   },
   "outputs": [
    {
     "data": {
      "text/plain": [
       "DataFrame[sig_id: string, cp_type: string, cp_time: int, cp_dose: string, g-0: double, g-1: double, g-2: double, g-3: double, g-4: double, g-5: double, g-6: double, g-7: double, g-8: double, g-9: double, g-10: double, g-11: double, g-12: double, g-13: double, g-14: double, g-15: double, g-16: double, g-17: double, g-18: double, g-19: double, g-20: double, g-21: double, g-22: double, g-23: double, g-24: double, g-25: double, g-26: double, g-27: double, g-28: double, g-29: double, g-30: double, g-31: double, g-32: double, g-33: double, g-34: double, g-35: double, g-36: double, g-37: double, g-38: double, g-39: double, g-40: double, g-41: double, g-42: double, g-43: double, g-44: double, g-45: double, g-46: double, g-47: double, g-48: double, g-49: double, g-50: double, g-51: double, g-52: double, g-53: double, g-54: double, g-55: double, g-56: double, g-57: double, g-58: double, g-59: double, g-60: double, g-61: double, g-62: double, g-63: double, g-64: double, g-65: double, g-66: double, g-67: double, g-68: double, g-69: double, g-70: double, g-71: double, g-72: double, g-73: double, g-74: double, g-75: double, g-76: double, g-77: double, g-78: double, g-79: double, g-80: double, g-81: double, g-82: double, g-83: double, g-84: double, g-85: double, g-86: double, g-87: double, g-88: double, g-89: double, g-90: double, g-91: double, g-92: double, g-93: double, g-94: double, g-95: double, g-96: double, g-97: double, g-98: double, g-99: double, g-100: double, g-101: double, g-102: double, g-103: double, g-104: double, g-105: double, g-106: double, g-107: double, g-108: double, g-109: double, g-110: double, g-111: double, g-112: double, g-113: double, g-114: double, g-115: double, g-116: double, g-117: double, g-118: double, g-119: double, g-120: double, g-121: double, g-122: double, g-123: double, g-124: double, g-125: double, g-126: double, g-127: double, g-128: double, g-129: double, g-130: double, g-131: double, g-132: double, g-133: double, g-134: double, g-135: double, g-136: double, g-137: double, g-138: double, g-139: double, g-140: double, g-141: double, g-142: double, g-143: double, g-144: double, g-145: double, g-146: double, g-147: double, g-148: double, g-149: double, g-150: double, g-151: double, g-152: double, g-153: double, g-154: double, g-155: double, g-156: double, g-157: double, g-158: double, g-159: double, g-160: double, g-161: double, g-162: double, g-163: double, g-164: double, g-165: double, g-166: double, g-167: double, g-168: double, g-169: double, g-170: double, g-171: double, g-172: double, g-173: double, g-174: double, g-175: double, g-176: double, g-177: double, g-178: double, g-179: double, g-180: double, g-181: double, g-182: double, g-183: double, g-184: double, g-185: double, g-186: double, g-187: double, g-188: double, g-189: double, g-190: double, g-191: double, g-192: double, g-193: double, g-194: double, g-195: double, g-196: double, g-197: double, g-198: double, g-199: double, g-200: double, g-201: double, g-202: double, g-203: double, g-204: double, g-205: double, g-206: double, g-207: double, g-208: double, g-209: double, g-210: double, g-211: double, g-212: double, g-213: double, g-214: double, g-215: double, g-216: double, g-217: double, g-218: double, g-219: double, g-220: double, g-221: double, g-222: double, g-223: double, g-224: double, g-225: double, g-226: double, g-227: double, g-228: double, g-229: double, g-230: double, g-231: double, g-232: double, g-233: double, g-234: double, g-235: double, g-236: double, g-237: double, g-238: double, g-239: double, g-240: double, g-241: double, g-242: double, g-243: double, g-244: double, g-245: double, g-246: double, g-247: double, g-248: double, g-249: double, g-250: double, g-251: double, g-252: double, g-253: double, g-254: double, g-255: double, g-256: double, g-257: double, g-258: double, g-259: double, g-260: double, g-261: double, g-262: double, g-263: double, g-264: double, g-265: double, g-266: double, g-267: double, g-268: double, g-269: double, g-270: double, g-271: double, g-272: double, g-273: double, g-274: double, g-275: double, g-276: double, g-277: double, g-278: double, g-279: double, g-280: double, g-281: double, g-282: double, g-283: double, g-284: double, g-285: double, g-286: double, g-287: double, g-288: double, g-289: double, g-290: double, g-291: double, g-292: double, g-293: double, g-294: double, g-295: double, g-296: double, g-297: double, g-298: double, g-299: double, g-300: double, g-301: double, g-302: double, g-303: double, g-304: double, g-305: double, g-306: double, g-307: double, g-308: double, g-309: double, g-310: double, g-311: double, g-312: double, g-313: double, g-314: double, g-315: double, g-316: double, g-317: double, g-318: double, g-319: double, g-320: double, g-321: double, g-322: double, g-323: double, g-324: double, g-325: double, g-326: double, g-327: double, g-328: double, g-329: double, g-330: double, g-331: double, g-332: double, g-333: double, g-334: double, g-335: double, g-336: double, g-337: double, g-338: double, g-339: double, g-340: double, g-341: double, g-342: double, g-343: double, g-344: double, g-345: double, g-346: double, g-347: double, g-348: double, g-349: double, g-350: double, g-351: double, g-352: double, g-353: double, g-354: double, g-355: double, g-356: double, g-357: double, g-358: double, g-359: double, g-360: double, g-361: double, g-362: double, g-363: double, g-364: double, g-365: double, g-366: double, g-367: double, g-368: double, g-369: double, g-370: double, g-371: double, g-372: double, g-373: double, g-374: double, g-375: double, g-376: double, g-377: double, g-378: double, g-379: double, g-380: double, g-381: double, g-382: double, g-383: double, g-384: double, g-385: double, g-386: double, g-387: double, g-388: double, g-389: double, g-390: double, g-391: double, g-392: double, g-393: double, g-394: double, g-395: double, g-396: double, g-397: double, g-398: double, g-399: double, g-400: double, g-401: double, g-402: double, g-403: double, g-404: double, g-405: double, g-406: double, g-407: double, g-408: double, g-409: double, g-410: double, g-411: double, g-412: double, g-413: double, g-414: double, g-415: double, g-416: double, g-417: double, g-418: double, g-419: double, g-420: double, g-421: double, g-422: double, g-423: double, g-424: double, g-425: double, g-426: double, g-427: double, g-428: double, g-429: double, g-430: double, g-431: double, g-432: double, g-433: double, g-434: double, g-435: double, g-436: double, g-437: double, g-438: double, g-439: double, g-440: double, g-441: double, g-442: double, g-443: double, g-444: double, g-445: double, g-446: double, g-447: double, g-448: double, g-449: double, g-450: double, g-451: double, g-452: double, g-453: double, g-454: double, g-455: double, g-456: double, g-457: double, g-458: double, g-459: double, g-460: double, g-461: double, g-462: double, g-463: double, g-464: double, g-465: double, g-466: double, g-467: double, g-468: double, g-469: double, g-470: double, g-471: double, g-472: double, g-473: double, g-474: double, g-475: double, g-476: double, g-477: double, g-478: double, g-479: double, g-480: double, g-481: double, g-482: double, g-483: double, g-484: double, g-485: double, g-486: double, g-487: double, g-488: double, g-489: double, g-490: double, g-491: double, g-492: double, g-493: double, g-494: double, g-495: double, g-496: double, g-497: double, g-498: double, g-499: double, g-500: double, g-501: double, g-502: double, g-503: double, g-504: double, g-505: double, g-506: double, g-507: double, g-508: double, g-509: double, g-510: double, g-511: double, g-512: double, g-513: double, g-514: double, g-515: double, g-516: double, g-517: double, g-518: double, g-519: double, g-520: double, g-521: double, g-522: double, g-523: double, g-524: double, g-525: double, g-526: double, g-527: double, g-528: double, g-529: double, g-530: double, g-531: double, g-532: double, g-533: double, g-534: double, g-535: double, g-536: double, g-537: double, g-538: double, g-539: double, g-540: double, g-541: double, g-542: double, g-543: double, g-544: double, g-545: double, g-546: double, g-547: double, g-548: double, g-549: double, g-550: double, g-551: double, g-552: double, g-553: double, g-554: double, g-555: double, g-556: double, g-557: double, g-558: double, g-559: double, g-560: double, g-561: double, g-562: double, g-563: double, g-564: double, g-565: double, g-566: double, g-567: double, g-568: double, g-569: double, g-570: double, g-571: double, g-572: double, g-573: double, g-574: double, g-575: double, g-576: double, g-577: double, g-578: double, g-579: double, g-580: double, g-581: double, g-582: double, g-583: double, g-584: double, g-585: double, g-586: double, g-587: double, g-588: double, g-589: double, g-590: double, g-591: double, g-592: double, g-593: double, g-594: double, g-595: double, g-596: double, g-597: double, g-598: double, g-599: double, g-600: double, g-601: double, g-602: double, g-603: double, g-604: double, g-605: double, g-606: double, g-607: double, g-608: double, g-609: double, g-610: double, g-611: double, g-612: double, g-613: double, g-614: double, g-615: double, g-616: double, g-617: double, g-618: double, g-619: double, g-620: double, g-621: double, g-622: double, g-623: double, g-624: double, g-625: double, g-626: double, g-627: double, g-628: double, g-629: double, g-630: double, g-631: double, g-632: double, g-633: double, g-634: double, g-635: double, g-636: double, g-637: double, g-638: double, g-639: double, g-640: double, g-641: double, g-642: double, g-643: double, g-644: double, g-645: double, g-646: double, g-647: double, g-648: double, g-649: double, g-650: double, g-651: double, g-652: double, g-653: double, g-654: double, g-655: double, g-656: double, g-657: double, g-658: double, g-659: double, g-660: double, g-661: double, g-662: double, g-663: double, g-664: double, g-665: double, g-666: double, g-667: double, g-668: double, g-669: double, g-670: double, g-671: double, g-672: double, g-673: double, g-674: double, g-675: double, g-676: double, g-677: double, g-678: double, g-679: double, g-680: double, g-681: double, g-682: double, g-683: double, g-684: double, g-685: double, g-686: double, g-687: double, g-688: double, g-689: double, g-690: double, g-691: double, g-692: double, g-693: double, g-694: double, g-695: double, g-696: double, g-697: double, g-698: double, g-699: double, g-700: double, g-701: double, g-702: double, g-703: double, g-704: double, g-705: double, g-706: double, g-707: double, g-708: double, g-709: double, g-710: double, g-711: double, g-712: double, g-713: double, g-714: double, g-715: double, g-716: double, g-717: double, g-718: double, g-719: double, g-720: double, g-721: double, g-722: double, g-723: double, g-724: double, g-725: double, g-726: double, g-727: double, g-728: double, g-729: double, g-730: double, g-731: double, g-732: double, g-733: double, g-734: double, g-735: double, g-736: double, g-737: double, g-738: double, g-739: double, g-740: double, g-741: double, g-742: double, g-743: double, g-744: double, g-745: double, g-746: double, g-747: double, g-748: double, g-749: double, g-750: double, g-751: double, g-752: double, g-753: double, g-754: double, g-755: double, g-756: double, g-757: double, g-758: double, g-759: double, g-760: double, g-761: double, g-762: double, g-763: double, g-764: double, g-765: double, g-766: double, g-767: double, g-768: double, g-769: double, g-770: double, g-771: double, c-0: double, c-1: double, c-2: double, c-3: double, c-4: double, c-5: double, c-6: double, c-7: double, c-8: double, c-9: double, c-10: double, c-11: double, c-12: double, c-13: double, c-14: double, c-15: double, c-16: double, c-17: double, c-18: double, c-19: double, c-20: double, c-21: double, c-22: double, c-23: double, c-24: double, c-25: double, c-26: double, c-27: double, c-28: double, c-29: double, c-30: double, c-31: double, c-32: double, c-33: double, c-34: double, c-35: double, c-36: double, c-37: double, c-38: double, c-39: double, c-40: double, c-41: double, c-42: double, c-43: double, c-44: double, c-45: double, c-46: double, c-47: double, c-48: double, c-49: double, c-50: double, c-51: double, c-52: double, c-53: double, c-54: double, c-55: double, c-56: double, c-57: double, c-58: double, c-59: double, c-60: double, c-61: double, c-62: double, c-63: double, c-64: double, c-65: double, c-66: double, c-67: double, c-68: double, c-69: double, c-70: double, c-71: double, c-72: double, c-73: double, c-74: double, c-75: double, c-76: double, c-77: double, c-78: double, c-79: double, c-80: double, c-81: double, c-82: double, c-83: double, c-84: double, c-85: double, c-86: double, c-87: double, c-88: double, c-89: double, c-90: double, c-91: double, c-92: double, c-93: double, c-94: double, c-95: double, c-96: double, c-97: double, c-98: double, c-99: double]"
      ]
     },
     "execution_count": 5,
     "metadata": {},
     "output_type": "execute_result"
    }
   ],
   "source": [
    "train_df.cache()\n",
    "target_df.cache()\n",
    "test_df.cache()"
   ]
  },
  {
   "cell_type": "code",
   "execution_count": 6,
   "metadata": {},
   "outputs": [],
   "source": [
    "def encode_cat_features(df, cat_features):\n",
    "\n",
    "  indexed_cols = [''.join([col_name, '_indexed']) for col_name in cat_features]\n",
    "  encoded_cols = [''.join([col_name, '_encoded']) for col_name in cat_features]\n",
    "  string_indexers = [StringIndexer(inputCol=cat_features[i], outputCol=indexed_cols[i]) for i in range(len(cat_features))]\n",
    "    \n",
    "  encoder = OneHotEncoder(inputCols=indexed_cols, outputCols=encoded_cols)\n",
    "  \n",
    "  pipline = Pipeline(stages=string_indexers + [encoder])\n",
    "  \n",
    "  encoded_df = pipline.fit(df).transform(df)\n",
    "  encoded_df = encoded_df.drop(*indexed_cols + cat_features)\n",
    "\n",
    "  return encoded_df\n",
    "\n",
    "def normalize_features(df, cols, normalizer, output_cols, if_drop=True):\n",
    "    \n",
    "  normalizer_lst = []\n",
    "  vectorized_cols = []\n",
    "  vector_assembers = []\n",
    "  \n",
    "  if isinstance(cols, list):\n",
    "    cols = {'cols': cols}\n",
    "  \n",
    "  if isinstance(output_cols, str):\n",
    "    output_cols = {'cols': output_cols}\n",
    "  \n",
    "  for k, v in cols.items():\n",
    "    \n",
    "    temp_normalizer = normalizer.copy()\n",
    "    vectorized_col = ''.join([output_cols[k], '_v'])\n",
    "    vector_assember = VectorAssembler(inputCols=v, outputCol=vectorized_col)\n",
    "    \n",
    "    temp_normalizer.setInputCol(vectorized_col)\n",
    "    temp_normalizer.setOutputCol(output_cols[k])\n",
    "    \n",
    "    normalizer_lst.append(temp_normalizer)\n",
    "    vectorized_cols.append(vectorized_col)\n",
    "    vector_assembers.append(vector_assember)\n",
    "  \n",
    "  pipline = Pipeline(stages=vector_assembers + normalizer_lst)\n",
    "  normalized_df = pipline.fit(df).transform(df).drop(*vectorized_cols)\n",
    "  \n",
    "  if if_drop:\n",
    "    \n",
    "    for k, v in cols.items():\n",
    "      \n",
    "      normalized_df = normalized_df.drop(v)\n",
    "  \n",
    "  return normalized_df\n",
    "\n",
    "def add_pca_features(df, g_cols, c_cols, k=40):\n",
    "  \n",
    "  ## normalize g-col and c-col\n",
    "  std_scaler = StandardScaler(withMean=True)\n",
    "  \n",
    "  input_cols = {\n",
    "    'g_cols': g_cols, \n",
    "    'c_cols': c_cols}\n",
    "  \n",
    "  output_cols = {\n",
    "    'g_cols': 'g_normalized', \n",
    "    'c_cols': 'c_normalized'}\n",
    "  \n",
    "  normalized_df = normalize_features(df, input_cols, std_scaler, output_cols, if_drop=False)\n",
    "  \n",
    "  ## perform PCA on g-cols and c-cols\n",
    "  g_col_pca = PCA(k=k, inputCol='g_normalized', outputCol='g_col_pca')\n",
    "  c_col_pca = PCA(k=k, inputCol='c_normalized', outputCol='c_col_pca')\n",
    "  \n",
    "  pipeline = Pipeline(stages=[g_col_pca, c_col_pca])\n",
    "  pca_df = pipeline.fit(normalized_df).transform(normalized_df)\n",
    "  \n",
    "  return pca_df\n",
    "  \n",
    "def add_stats_features(df, g_cols, c_cols):\n",
    "  \n",
    "  @udf('double')\n",
    "  def cols_sum(*lst):\n",
    "\n",
    "    return sum(lst)\n",
    "\n",
    "  @udf('double')\n",
    "  def cols_mean(*lst):\n",
    "\n",
    "    n = len(lst)\n",
    "    s = sum(lst)\n",
    "\n",
    "    return s / n\n",
    "\n",
    "  @udf('double')\n",
    "  def cols_var(*lst):\n",
    "\n",
    "    n = len(lst)\n",
    "    s = sum(lst) / n\n",
    "    total = 0\n",
    "\n",
    "    for x in lst:\n",
    "\n",
    "      total += (x - s)**2 \n",
    "\n",
    "    return total / n\n",
    "  \n",
    "  @udf('double')\n",
    "  def cols_min(*lst):\n",
    "    \n",
    "    return min(lst)\n",
    "  \n",
    "  @udf('double')\n",
    "  def cols_max(*lst):\n",
    "    \n",
    "    return max(lst)\n",
    "  \n",
    "  stats_dict = {\n",
    "    'min_stats': cols_min,\n",
    "    'max_stats': cols_max,\n",
    "    'var_stats': cols_var,\n",
    "    'mean_stats': cols_mean,\n",
    "    'sum_stats': cols_sum\n",
    "  }\n",
    "  \n",
    "  for name, func in stats_dict.items():\n",
    "    \n",
    "    df = df.withColumn(''.join(['g_cols_', name]), func(*[col(g_col) for g_col in g_cols]))\n",
    "    df = df.withColumn(''.join(['c_cols_', name]), func(*[col(c_col) for c_col in c_cols]))\n",
    "  \n",
    "  return df\n",
    "\n",
    "def add_kmeans_features(df, g_cols, c_cols, k=2, num_iter=10):\n",
    "  \n",
    "  kmeans_g = KMeans(k=k, featuresCol=g_cols, predictionCol='g_col_k_mean', seed=16)\n",
    "  kmeans_c = KMeans(k=k, featuresCol=c_cols, predictionCol='c_col_k_mean', seed=16)\n",
    "  \n",
    "  kmeans_df = kmeans_g.fit(df).transform(df)\n",
    "  kmeans_df = kmeans_c.fit(kmeans_df).transform(kmeans_df)\n",
    "  \n",
    "  return kmeans_df\n",
    "\n",
    "def feature_engineering(df, num_cluster=2, num_comp=40, num_iter=10):\n",
    "  \n",
    "  ## get g-col and c-col\n",
    "  g_cols = list(filter(lambda v: re.match('g-.+', v), df.columns))\n",
    "  c_cols = list(filter(lambda v: re.match('c-.+', v), df.columns))\n",
    "  \n",
    "  ## PCA\n",
    "  pca_df = add_pca_features(df, g_cols, c_cols, num_comp)\n",
    "\n",
    "  ## stats features on g and c cols\n",
    "  stats_df = add_stats_features(pca_df, g_cols, c_cols)\n",
    "  \n",
    "  ## add k-means features\n",
    "  kmeans_df = add_kmeans_features(stats_df, g_cols='g_normalized', c_cols='c_normalized', k=num_cluster, num_iter=num_iter)\n",
    "  \n",
    "  return kmeans_df\n",
    "\n",
    "def get_correlation(df, threshold=0.95, feature_col='all_features', plot=False):\n",
    "    \n",
    "    from pyspark.ml.stat import Correlation\n",
    "    from pyspark.sql.types import FloatType, ArrayType, IntegerType\n",
    "    import numpy as np\n",
    "    \n",
    "    r1 = Correlation.corr(df, feature_col)\n",
    "    r1 = r1.select(f'pearson({feature_col})').collect()[0][f'pearson({feature_col})'].toArray().tolist()\n",
    "    \n",
    "    ## if plot == True, plot the correlation plot using seaborn\n",
    "    if plot:\n",
    "        plt.figure(figsize=(20, 10))\n",
    "        cor_plt_array = np.array(r1)\n",
    "        sns.heatmap(cor_plt_array)\n",
    "        \n",
    "    ## extract values from dense matrix to a new dataframe\n",
    "    r1 = spark.createDataFrame(r1)\n",
    "    gv = sc.broadcast(threshold)\n",
    "    va = VectorAssembler(inputCols=r1.columns, outputCol='features')\n",
    "    r1 = va.transform(r1)\n",
    "    \n",
    "    ## find groups of features that have high correlation values\n",
    "    def find_element(row, gv):\n",
    "    \n",
    "        lst = []\n",
    "\n",
    "        for i in range(len(row)):\n",
    "\n",
    "            if (row[i] >= gv.value) | (row[i] <= -gv.value):\n",
    "                lst.append(i)\n",
    "        \n",
    "        if len(lst) == 1:\n",
    "            lst = []\n",
    "            \n",
    "        return lst\n",
    "\n",
    "    m = udf(lambda x: find_element(x, gv), ArrayType(IntegerType()))\n",
    "    \n",
    "    return r1.withColumn('correlated_features', m('features')).select('correlated_features')"
   ]
  },
  {
   "cell_type": "code",
   "execution_count": 7,
   "metadata": {},
   "outputs": [],
   "source": [
    "## add indicator column to both train and test so we can combine them later\n",
    "train_df = train_df.withColumn('is_test', lit(0))\n",
    "test_df = test_df.withColumn('is_test', lit(1))\n",
    "\n",
    "## Combine train and test df\n",
    "full_df = train_df.union(test_df)\n",
    "\n",
    "## encode features\n",
    "target_cols = ['cp_type', 'cp_dose']\n",
    "encoded_df = encode_cat_features(full_df, target_cols)"
   ]
  },
  {
   "cell_type": "markdown",
   "metadata": {},
   "source": [
    "## Models"
   ]
  },
  {
   "cell_type": "code",
   "execution_count": 8,
   "metadata": {},
   "outputs": [],
   "source": [
    "from tqdm import tqdm\n",
    "# Multilabel Classifier\n",
    "class MultiLabelClassifier:\n",
    "    \n",
    "    def __init__(self, clf, labels, feature_col,  \n",
    "                 hyperparameters=[], \n",
    "                 predict_col=['probability','prediction'],\n",
    "                 method=lambda prob_col, pred_col: float(pred_col if len(prob_col) == 1 else prob_col[1])):\n",
    "        '''\n",
    "        Initialize a multilabelclassifier\n",
    "        clf: the model to use\n",
    "        labels: a list of labels to predict\n",
    "        feature_col: the feature column\n",
    "        predict_col: the prediction column where the prediction is located\n",
    "        hyperparameters: all optional hyperparameters that can tune\n",
    "        method: a method of how to get the final prediction for one class\n",
    "        '''\n",
    "        self.clf = clf\n",
    "        self.labels = labels\n",
    "        self.feature_col = feature_col\n",
    "        self.predict_col = predict_col\n",
    "        self.hyperparameters = hyperparameters\n",
    "        self.method = method\n",
    "        self._trained_clfs = []\n",
    "\n",
    "    def fit(self, train):\n",
    "        \n",
    "        train.cache()\n",
    "        \n",
    "        for label, hyperparameters in tqdm(zip(self.labels, self.hyperparameters)):\n",
    "            ## add weight col\n",
    "            temp_train = train.withColumn('weight', when(col(label) == 1, 2).otherwise(1))\n",
    "            temp_clf = self.clf(labelCol=label, featuresCol=self.feature_col, weightCol='weight', **hyperparameters).fit(temp_train)\n",
    "            self._trained_clfs.append(temp_clf)\n",
    "            \n",
    "            temp_train.unpersist()\n",
    "            \n",
    "        return self\n",
    "\n",
    "    def transform(self, x_test):\n",
    "        # convert method to udf\n",
    "        get_predict = udf(self.method,FloatType())\n",
    "        #target assembler\n",
    "        va = VectorAssembler(inputCols=self.labels, outputCol='targets')\n",
    "        ## transform this vector self.output_col to an array\n",
    "        select_cols = [self.feature_col, 'targets', 'sig_id']\n",
    "        res = va.transform(x_test).select(*select_cols)\n",
    "        for i, clf in tqdm(enumerate(self._trained_clfs)):\n",
    "            res = clf.transform(res)\n",
    "            new_col = self.labels[i]\n",
    "            res = res.withColumn(new_col, get_predict(*self.predict_col))\n",
    "            select_cols.append(new_col)\n",
    "            res = res.select(*select_cols)\n",
    "        self.res = res\n",
    "        return res.select(*select_cols[2:])\n",
    "    \n",
    "    def score(self):\n",
    "        #target assembler \n",
    "        va = VectorAssembler(inputCols=self.labels, outputCol='predicts')\n",
    "        ## transform this vector self.output_col to an array\n",
    "        df = va.transform(self.res).select('targets', 'predicts')\n",
    "        df = df.withColumn('targets', vector_to_array('targets'))\n",
    "        df = df.withColumn('predicts', vector_to_array('predicts'))\n",
    "        import math\n",
    "        @udf('double')\n",
    "        def log_loss(y, y_hat):\n",
    "            r = 0\n",
    "            cut = 1e-15\n",
    "            for t, p in zip(y, y_hat):\n",
    "                p = max(min(p, 1-cut),cut)\n",
    "                r += t * math.log(p) + (1 - t) * math.log(1 - p)\n",
    "            return r/len(y)\n",
    "        df = df.select(log_loss('targets','predicts').alias('log_loss'))\n",
    "        return df.select((-_mean(col('log_loss'))).alias('score'))\n",
    "    \n",
    "    def param_search_cv(self, train, grid_map, fold_num):\n",
    "        \"\"\"\n",
    "        Perform param search on each binary classifier\n",
    "        \n",
    "        train: the traning set for cross validation\n",
    "        grid_map: the param grid map contains params for tunning\n",
    "        fold_num: number of folds for k fold cross validation\n",
    "        return: a list of dict({param: value}), one dict for each binary classifier\n",
    "        \"\"\"\n",
    "                   \n",
    "        train.cache()\n",
    "        best_params = []\n",
    "        \n",
    "        def _extract_best_params(cv_model):\n",
    "            \"\"\"\n",
    "            extract best params from cross validation output\n",
    "            \n",
    "            cv_model: CrossValidationModel\n",
    "            return: dict({param: value})\n",
    "            \"\"\"\n",
    "            \n",
    "            best_param_dict = {}\n",
    "            scores = cv_model.avgMetrics\n",
    "            best_param = cv_model.getEstimatorParamMaps()[scores.index(min(scores))]\n",
    "\n",
    "            for k, v in best_param.items():\n",
    "                best_param_dict[k.name] = v\n",
    "            \n",
    "            return best_param_dict\n",
    "            \n",
    "        for label in tqdm(self.labels):\n",
    "            \n",
    "            ## for each label: init classifier, evaluator, cross validator\n",
    "            clf = self.clf(labelCol=label, featuresCol=self.feature_col)\n",
    "            evaluator = MultilabelEvaluator(method=self.method, predictionCol=self.predict_col, labelCol=label)\n",
    "            cv = CrossValidator(estimator=clf, estimatorParamMaps=grid_map, numFolds=fold_num, evaluator=evaluator, parallelism=4)\n",
    "            \n",
    "            ## fit the cross validator and  extract best params for this binary classifier\n",
    "            cv_model = cv.fit(train)\n",
    "            best_model = cv_model.bestModel\n",
    "            best_param = _extract_best_params(cv_model)\n",
    "            \n",
    "            ## append best model and append the best params\n",
    "            self._trained_clfs.append(best_model)\n",
    "            best_params.append(best_param) \n",
    "        \n",
    "        return best_params\n",
    "    \n",
    "\n",
    "class MultilabelEvaluator(Evaluator):\n",
    "    \n",
    "    def __init__(self, method, predictionCol=['probability', 'prediction'], labelCol=\"label\"):\n",
    "        \n",
    "        self.predictionCol = predictionCol\n",
    "        self.labelCol = labelCol\n",
    "        self.method = method\n",
    "        \n",
    "    def _evaluate(self, dataset):\n",
    "        \"\"\"\n",
    "        calculate log loss for single binary classifier's prediction\n",
    "        \n",
    "        dataset: the dataset contains the output of the binary classifier\n",
    "        return: the log loss score\n",
    "        \"\"\"\n",
    "        ## log loss for single binary classifier\n",
    "        get_predict = udf(self.method,FloatType())\n",
    "        dataset = dataset.withColumn('pred_prob', get_predict(*self.predictionCol))\n",
    "        cut = 1e-15\n",
    "        new_dataset = dataset.select((-col(self.labelCol) * _log(col('pred_prob') + cut) - (1.0 - col(self.labelCol)) * _log(1.0 - col('pred_prob') + cut)).alias('log_loss'))        \n",
    "        score = new_dataset.select(_mean(col('log_loss')).alias('score')).collect()[0]['score']\n",
    "        return score\n",
    "        \n",
    "    def isLargerBetter(self):\n",
    "        return False\n",
    "    "
   ]
  },
  {
   "cell_type": "code",
   "execution_count": 9,
   "metadata": {},
   "outputs": [],
   "source": [
    "def convert_to_array(prob_col, pred_col):\n",
    "    \"\"\"\n",
    "    extract probability of class1 from output probability column prob_col which consists of [prob of class0, prob of class1], if len(prob_col) == 1, \n",
    "    then use the pred_col.\n",
    "    \n",
    "    prob_col: probability column\n",
    "    pred_col: prediction column\n",
    "    return probability of class1\n",
    "    \"\"\"\n",
    "    \n",
    "    ## solve na problem, if len(prob_col) == 1, we use the prediction col\n",
    "    converted_prob_col = prob_col.toArray().tolist()\n",
    "\n",
    "    if len(converted_prob_col) == 1:\n",
    "\n",
    "        return pred_col\n",
    "\n",
    "    else:\n",
    "\n",
    "        return converted_prob_col[1]"
   ]
  },
  {
   "cell_type": "markdown",
   "metadata": {},
   "source": [
    "### Baseline model\n",
    "\n",
    "Only contains the original dataset, after categorical encoding, no new features, no PCA features."
   ]
  },
  {
   "cell_type": "code",
   "execution_count": 10,
   "metadata": {},
   "outputs": [],
   "source": [
    "## full dataset\n",
    "exclude_features = ['sig_id', 'cp_dose', 'cp_type']\n",
    "vector_assember_train = VectorAssembler(inputCols=[col for col in encoded_df.columns if col not in exclude_features], outputCol='features')\n",
    "fe_df = vector_assember_train.transform(encoded_df)\n",
    "\n",
    "## split train, test df\n",
    "fe_train = fe_df.filter(fe_df['is_test'] == 0)\n",
    "final_test = fe_df.filter(fe_df['is_test'] == 1).select(['sig_id', 'features'])\n",
    "\n",
    "## join training target with training features\n",
    "labels = target_df.drop('sig_id').columns\n",
    "final_train = fe_train.join(target_df, ['sig_id']).select(*(['sig_id','features'] + labels))\n",
    "\n",
    "## train test split\n",
    "(cv_train, test) = final_train.randomSplit([0.8, 0.2], 16)\n",
    "(train, validation) = cv_train.randomSplit([0.8, 0.2], 16)"
   ]
  },
  {
   "cell_type": "code",
   "execution_count": 11,
   "metadata": {},
   "outputs": [],
   "source": [
    "## baseline Decision Tree\n",
    "clf = DecisionTreeClassifier\n",
    "hyperparameters = [{}] * len(labels)\n",
    "method = convert_to_array\n",
    "baseline_dt = MultiLabelClassifier(clf, labels, 'features', hyperparameters=hyperparameters, method=method)"
   ]
  },
  {
   "cell_type": "code",
   "execution_count": 17,
   "metadata": {
    "scrolled": true
   },
   "outputs": [
    {
     "name": "stderr",
     "output_type": "stream",
     "text": [
      "206it [20:37,  6.01s/it]\n",
      "206it [01:14,  2.78it/s]\n"
     ]
    },
    {
     "name": "stdout",
     "output_type": "stream",
     "text": [
      "The baseline score for Decision Tree model is : \n",
      "+-------------------+\n",
      "|              score|\n",
      "+-------------------+\n",
      "|0.04474902213585472|\n",
      "+-------------------+\n",
      "\n"
     ]
    }
   ],
   "source": [
    "baseline_dt.fit(train).transform(validation)\n",
    "print(f'The baseline score for Decision Tree model is : ')\n",
    "baseline_dt.score().show()"
   ]
  },
  {
   "cell_type": "code",
   "execution_count": 12,
   "metadata": {},
   "outputs": [],
   "source": [
    "## baseline Logsitic Regression\n",
    "clf = LogisticRegression\n",
    "baseline_lr = MultiLabelClassifier(clf, labels, 'features', hyperparameters=hyperparameters, method=method)"
   ]
  },
  {
   "cell_type": "code",
   "execution_count": 13,
   "metadata": {
    "scrolled": true
   },
   "outputs": [
    {
     "name": "stderr",
     "output_type": "stream",
     "text": [
      "206it [39:27, 11.50s/it]\n",
      "206it [01:15,  2.71it/s]\n"
     ]
    },
    {
     "name": "stdout",
     "output_type": "stream",
     "text": [
      "The baseline score for Logistic Regression model is : \n",
      "+-------------------+\n",
      "|              score|\n",
      "+-------------------+\n",
      "|0.12325460344160755|\n",
      "+-------------------+\n",
      "\n"
     ]
    }
   ],
   "source": [
    "baseline_lr.fit(train).transform(validation)\n",
    "print('The baseline score for Logistic Regression model is : ')\n",
    "baseline_lr.score().show()"
   ]
  },
  {
   "cell_type": "code",
   "execution_count": 20,
   "metadata": {},
   "outputs": [],
   "source": [
    "## baseline Gaussian Naive Bayes\n",
    "clf = NaiveBayes\n",
    "hyperparameters = [{'modelType': 'gaussian'}] * len(labels)\n",
    "baseline_nb = MultiLabelClassifier(clf, labels, 'features', hyperparameters=hyperparameters, method=method)"
   ]
  },
  {
   "cell_type": "code",
   "execution_count": 21,
   "metadata": {},
   "outputs": [
    {
     "name": "stderr",
     "output_type": "stream",
     "text": [
      "206it [05:29,  1.60s/it]\n",
      "206it [01:07,  3.04it/s]\n"
     ]
    },
    {
     "name": "stdout",
     "output_type": "stream",
     "text": [
      "The baseline score for Gaussian Naive Bayes model is :\n",
      "+------------------+\n",
      "|             score|\n",
      "+------------------+\n",
      "|14.246018279911636|\n",
      "+------------------+\n",
      "\n"
     ]
    }
   ],
   "source": [
    "baseline_nb.fit(train).transform(validation)\n",
    "print(f'The baseline score for Gaussian Naive Bayes model is :')\n",
    "baseline_nb.score().show()"
   ]
  },
  {
   "cell_type": "markdown",
   "metadata": {},
   "source": [
    "### Model after feature engineering and feature selection\n",
    "\n",
    "Decision Tree with PCA + Feature engineering + Feature selection"
   ]
  },
  {
   "cell_type": "code",
   "execution_count": 15,
   "metadata": {
    "scrolled": false
   },
   "outputs": [
    {
     "name": "stdout",
     "output_type": "stream",
     "text": [
      "+-------------------+\n",
      "|correlated_features|\n",
      "+-------------------+\n",
      "|            [0, 14]|\n",
      "|                 []|\n",
      "|           [16, 18]|\n",
      "|        [5, 17, 19]|\n",
      "+-------------------+\n",
      "\n"
     ]
    },
    {
     "data": {
      "image/png": "[encoded data removed]",
      "text/plain": [
       "<Figure size 1440x720 with 2 Axes>"
      ]
     },
     "metadata": {
      "needs_background": "light"
     },
     "output_type": "display_data"
    }
   ],
   "source": [
    "## feature engineering\n",
    "fe_df = feature_engineering(encoded_df, num_comp=5, num_iter=5)\n",
    "\n",
    "## select all the feature columns\n",
    "\n",
    "pca_cols = list(filter(lambda v: re.match('.+_pca', v), fe_df.columns))\n",
    "stats_cols = list(filter(lambda v: re.match('.+_stats', v), fe_df.columns))\n",
    "k_means_cols = list(filter(lambda v: re.match('.+_k_mean', v), fe_df.columns))\n",
    "cat_cols = list(filter(lambda v: re.match('.+_encoded', v), fe_df.columns)) + ['cp_time']\n",
    "all_cols = pca_cols + stats_cols + k_means_cols + cat_cols\n",
    "## stack them to a single feature vector\n",
    "vector_assember_train = VectorAssembler(inputCols=all_cols, outputCol='all_features')\n",
    "fe_df = vector_assember_train.transform(fe_df)\n",
    "\n",
    "## Check their correlation\n",
    "corr_df = get_correlation(fe_df, 0.96, plot=True)\n",
    "corr_df.dropDuplicates().show()"
   ]
  },
  {
   "cell_type": "code",
   "execution_count": 16,
   "metadata": {},
   "outputs": [
    {
     "data": {
      "text/plain": [
       "'c_cols_max_stats'"
      ]
     },
     "execution_count": 16,
     "metadata": {},
     "output_type": "execute_result"
    }
   ],
   "source": [
    "## 40 PCA columns\n",
    "## looking for position 3, 6, 7, 8\n",
    "(stats_cols + k_means_cols + cat_cols)[3]"
   ]
  },
  {
   "cell_type": "code",
   "execution_count": 17,
   "metadata": {},
   "outputs": [
    {
     "data": {
      "text/plain": [
       "'g_cols_mean_stats'"
      ]
     },
     "execution_count": 17,
     "metadata": {},
     "output_type": "execute_result"
    }
   ],
   "source": [
    "(stats_cols + k_means_cols + cat_cols)[6]"
   ]
  },
  {
   "cell_type": "code",
   "execution_count": 18,
   "metadata": {},
   "outputs": [
    {
     "data": {
      "text/plain": [
       "'c_cols_mean_stats'"
      ]
     },
     "execution_count": 18,
     "metadata": {},
     "output_type": "execute_result"
    }
   ],
   "source": [
    "(stats_cols + k_means_cols + cat_cols)[7]"
   ]
  },
  {
   "cell_type": "code",
   "execution_count": 19,
   "metadata": {},
   "outputs": [
    {
     "data": {
      "text/plain": [
       "'g_cols_sum_stats'"
      ]
     },
     "execution_count": 19,
     "metadata": {},
     "output_type": "execute_result"
    }
   ],
   "source": [
    "(stats_cols + k_means_cols + cat_cols)[8]"
   ]
  },
  {
   "cell_type": "code",
   "execution_count": 20,
   "metadata": {},
   "outputs": [],
   "source": [
    "high_corr_features = ['c_cols_max_stats', 'g_cols_mean_stats', 'c_cols_mean_stats', 'g_cols_sum_stats']"
   ]
  },
  {
   "cell_type": "code",
   "execution_count": 21,
   "metadata": {},
   "outputs": [],
   "source": [
    "## stack them to a single feature vector again, and remove those features with high correlation\n",
    "vector_assember_train = VectorAssembler(inputCols=[col for col in all_cols if col not in high_corr_features], outputCol='all_features')\n",
    "fe_df = vector_assember_train.transform(fe_df.drop('all_features'))"
   ]
  },
  {
   "cell_type": "code",
   "execution_count": 22,
   "metadata": {},
   "outputs": [],
   "source": [
    "## normalize all the features\n",
    "normalizer = StandardScaler(withMean=True)\n",
    "cols = ['all_features']\n",
    "output_cols = 'features'\n",
    "fe_df = normalize_features(fe_df, cols, normalizer, output_cols, if_drop=False)\n",
    "\n",
    "## split train, test df\n",
    "fe_train = fe_df.filter(fe_df['is_test'] == 0)\n",
    "final_test = fe_df.filter(fe_df['is_test'] == 1).select(['sig_id', 'features'])\n",
    "\n",
    "## join training target with training features\n",
    "labels = target_df.drop('sig_id').columns\n",
    "final_train = fe_train.join(target_df, ['sig_id']).select(*(['sig_id','features'] + labels))"
   ]
  },
  {
   "cell_type": "code",
   "execution_count": 23,
   "metadata": {
    "scrolled": true
   },
   "outputs": [
    {
     "data": {
      "text/plain": [
       "DataFrame[correlated_features: array<int>]"
      ]
     },
     "execution_count": 23,
     "metadata": {},
     "output_type": "execute_result"
    }
   ],
   "source": [
    "## train test split\n",
    "(cv_train, test) = final_train.randomSplit([0.8, 0.2], 16)\n",
    "(train, validation) = cv_train.randomSplit([0.8, 0.2], 16)\n",
    "\n",
    "train.cache()\n",
    "cv_train.cache()\n",
    "validation.cache()\n",
    "test.cache()\n",
    "train_df.unpersist()\n",
    "test_df.unpersist()\n",
    "target_df.unpersist()\n",
    "fe_train.unpersist()\n",
    "fe_df.unpersist()\n",
    "final_train.unpersist()\n",
    "encoded_df.unpersist()\n",
    "corr_df.unpersist()"
   ]
  },
  {
   "cell_type": "code",
   "execution_count": 19,
   "metadata": {},
   "outputs": [],
   "source": [
    "## Feature engineering + Feature selection Decision Tree\n",
    "clf = DecisionTreeClassifier\n",
    "hyperparameters = [{}] * len(labels)\n",
    "method = convert_to_array\n",
    "dt = MultiLabelClassifier(clf, labels, 'features', hyperparameters=hyperparameters, method=method)"
   ]
  },
  {
   "cell_type": "code",
   "execution_count": 20,
   "metadata": {},
   "outputs": [
    {
     "name": "stderr",
     "output_type": "stream",
     "text": [
      "206it [05:46,  1.68s/it]\n",
      "206it [01:33,  2.20it/s]\n"
     ]
    },
    {
     "name": "stdout",
     "output_type": "stream",
     "text": [
      "The score after feature engineering + feature selection for Decision Tree model is : \n",
      "+-------------------+\n",
      "|              score|\n",
      "+-------------------+\n",
      "|0.03333891635429162|\n",
      "+-------------------+\n",
      "\n"
     ]
    }
   ],
   "source": [
    "dt.fit(train).transform(validation)\n",
    "print('The score after feature engineering + feature selection for Decision Tree model is : ')\n",
    "dt.score().show()"
   ]
  },
  {
   "cell_type": "markdown",
   "metadata": {},
   "source": [
    "### Model after tuning\n",
    "\n",
    "Decision Tree, after hyperparameter tuning\n",
    "\n",
    "Best params are {'maxDepth': 2, 'impurity': 'gini', 'maxBins': 8, 'minInstancesPerNode': 1}"
   ]
  },
  {
   "cell_type": "code",
   "execution_count": 25,
   "metadata": {
    "scrolled": true
   },
   "outputs": [],
   "source": [
    "## hyperparameter tuning\n",
    "clf = DecisionTreeClassifier\n",
    "grid_map = ParamGridBuilder().addGrid(clf().maxDepth, [2, 4, 7]).addGrid(clf().impurity, ['gini', 'entropy']).addGrid(clf().maxBins, [8, 32, 64]).addGrid(clf().minInstancesPerNode, [1, 8, 16]).build()\n",
    "method = convert_to_array\n",
    "dt = MultiLabelClassifier(clf, labels, 'features', method=method)"
   ]
  },
  {
   "cell_type": "code",
   "execution_count": null,
   "metadata": {
    "scrolled": false
   },
   "outputs": [],
   "source": [
    "best_params = dt.param_search_cv(cv_train, grid_map, 3)"
   ]
  },
  {
   "cell_type": "code",
   "execution_count": null,
   "metadata": {},
   "outputs": [],
   "source": [
    "best_params"
   ]
  },
  {
   "cell_type": "code",
   "execution_count": 26,
   "metadata": {},
   "outputs": [],
   "source": [
    "clf = DecisionTreeClassifier\n",
    "method = convert_to_array\n",
    "hyperparameters = [{'maxDepth': 2, 'impurity': 'gini', 'maxBins': 8, 'minInstancesPerNode': 1}] * len(labels)\n",
    "final_dt = MultiLabelClassifier(clf, labels, 'features', hyperparameters=hyperparameters, method=method)"
   ]
  },
  {
   "cell_type": "code",
   "execution_count": 27,
   "metadata": {
    "scrolled": true
   },
   "outputs": [
    {
     "name": "stderr",
     "output_type": "stream",
     "text": [
      "206it [04:39,  1.36s/it]\n",
      "206it [01:33,  2.20it/s]\n"
     ]
    },
    {
     "data": {
      "text/plain": [
       "DataFrame[sig_id: string, 5-alpha_reductase_inhibitor: float, 11-beta-hsd1_inhibitor: float, acat_inhibitor: float, acetylcholine_receptor_agonist: float, acetylcholine_receptor_antagonist: float, acetylcholinesterase_inhibitor: float, adenosine_receptor_agonist: float, adenosine_receptor_antagonist: float, adenylyl_cyclase_activator: float, adrenergic_receptor_agonist: float, adrenergic_receptor_antagonist: float, akt_inhibitor: float, aldehyde_dehydrogenase_inhibitor: float, alk_inhibitor: float, ampk_activator: float, analgesic: float, androgen_receptor_agonist: float, androgen_receptor_antagonist: float, anesthetic_-_local: float, angiogenesis_inhibitor: float, angiotensin_receptor_antagonist: float, anti-inflammatory: float, antiarrhythmic: float, antibiotic: float, anticonvulsant: float, antifungal: float, antihistamine: float, antimalarial: float, antioxidant: float, antiprotozoal: float, antiviral: float, apoptosis_stimulant: float, aromatase_inhibitor: float, atm_kinase_inhibitor: float, atp-sensitive_potassium_channel_antagonist: float, atp_synthase_inhibitor: float, atpase_inhibitor: float, atr_kinase_inhibitor: float, aurora_kinase_inhibitor: float, autotaxin_inhibitor: float, bacterial_30s_ribosomal_subunit_inhibitor: float, bacterial_50s_ribosomal_subunit_inhibitor: float, bacterial_antifolate: float, bacterial_cell_wall_synthesis_inhibitor: float, bacterial_dna_gyrase_inhibitor: float, bacterial_dna_inhibitor: float, bacterial_membrane_integrity_inhibitor: float, bcl_inhibitor: float, bcr-abl_inhibitor: float, benzodiazepine_receptor_agonist: float, beta_amyloid_inhibitor: float, bromodomain_inhibitor: float, btk_inhibitor: float, calcineurin_inhibitor: float, calcium_channel_blocker: float, cannabinoid_receptor_agonist: float, cannabinoid_receptor_antagonist: float, carbonic_anhydrase_inhibitor: float, casein_kinase_inhibitor: float, caspase_activator: float, catechol_o_methyltransferase_inhibitor: float, cc_chemokine_receptor_antagonist: float, cck_receptor_antagonist: float, cdk_inhibitor: float, chelating_agent: float, chk_inhibitor: float, chloride_channel_blocker: float, cholesterol_inhibitor: float, cholinergic_receptor_antagonist: float, coagulation_factor_inhibitor: float, corticosteroid_agonist: float, cyclooxygenase_inhibitor: float, cytochrome_p450_inhibitor: float, dihydrofolate_reductase_inhibitor: float, dipeptidyl_peptidase_inhibitor: float, diuretic: float, dna_alkylating_agent: float, dna_inhibitor: float, dopamine_receptor_agonist: float, dopamine_receptor_antagonist: float, egfr_inhibitor: float, elastase_inhibitor: float, erbb2_inhibitor: float, estrogen_receptor_agonist: float, estrogen_receptor_antagonist: float, faah_inhibitor: float, farnesyltransferase_inhibitor: float, fatty_acid_receptor_agonist: float, fgfr_inhibitor: float, flt3_inhibitor: float, focal_adhesion_kinase_inhibitor: float, free_radical_scavenger: float, fungal_squalene_epoxidase_inhibitor: float, gaba_receptor_agonist: float, gaba_receptor_antagonist: float, gamma_secretase_inhibitor: float, glucocorticoid_receptor_agonist: float, glutamate_inhibitor: float, glutamate_receptor_agonist: float, glutamate_receptor_antagonist: float, gonadotropin_receptor_agonist: float, gsk_inhibitor: float, hcv_inhibitor: float, hdac_inhibitor: float, histamine_receptor_agonist: float, histamine_receptor_antagonist: float, histone_lysine_demethylase_inhibitor: float, histone_lysine_methyltransferase_inhibitor: float, hiv_inhibitor: float, hmgcr_inhibitor: float, hsp_inhibitor: float, igf-1_inhibitor: float, ikk_inhibitor: float, imidazoline_receptor_agonist: float, immunosuppressant: float, insulin_secretagogue: float, insulin_sensitizer: float, integrin_inhibitor: float, jak_inhibitor: float, kit_inhibitor: float, laxative: float, leukotriene_inhibitor: float, leukotriene_receptor_antagonist: float, lipase_inhibitor: float, lipoxygenase_inhibitor: float, lxr_agonist: float, mdm_inhibitor: float, mek_inhibitor: float, membrane_integrity_inhibitor: float, mineralocorticoid_receptor_antagonist: float, monoacylglycerol_lipase_inhibitor: float, monoamine_oxidase_inhibitor: float, monopolar_spindle_1_kinase_inhibitor: float, mtor_inhibitor: float, mucolytic_agent: float, neuropeptide_receptor_antagonist: float, nfkb_inhibitor: float, nicotinic_receptor_agonist: float, nitric_oxide_donor: float, nitric_oxide_production_inhibitor: float, nitric_oxide_synthase_inhibitor: float, norepinephrine_reuptake_inhibitor: float, nrf2_activator: float, opioid_receptor_agonist: float, opioid_receptor_antagonist: float, orexin_receptor_antagonist: float, p38_mapk_inhibitor: float, p-glycoprotein_inhibitor: float, parp_inhibitor: float, pdgfr_inhibitor: float, pdk_inhibitor: float, phosphodiesterase_inhibitor: float, phospholipase_inhibitor: float, pi3k_inhibitor: float, pkc_inhibitor: float, potassium_channel_activator: float, potassium_channel_antagonist: float, ppar_receptor_agonist: float, ppar_receptor_antagonist: float, progesterone_receptor_agonist: float, progesterone_receptor_antagonist: float, prostaglandin_inhibitor: float, prostanoid_receptor_antagonist: float, proteasome_inhibitor: float, protein_kinase_inhibitor: float, protein_phosphatase_inhibitor: float, protein_synthesis_inhibitor: float, protein_tyrosine_kinase_inhibitor: float, radiopaque_medium: float, raf_inhibitor: float, ras_gtpase_inhibitor: float, retinoid_receptor_agonist: float, retinoid_receptor_antagonist: float, rho_associated_kinase_inhibitor: float, ribonucleoside_reductase_inhibitor: float, rna_polymerase_inhibitor: float, serotonin_receptor_agonist: float, serotonin_receptor_antagonist: float, serotonin_reuptake_inhibitor: float, sigma_receptor_agonist: float, sigma_receptor_antagonist: float, smoothened_receptor_antagonist: float, sodium_channel_inhibitor: float, sphingosine_receptor_agonist: float, src_inhibitor: float, steroid: float, syk_inhibitor: float, tachykinin_antagonist: float, tgf-beta_receptor_inhibitor: float, thrombin_inhibitor: float, thymidylate_synthase_inhibitor: float, tlr_agonist: float, tlr_antagonist: float, tnf_inhibitor: float, topoisomerase_inhibitor: float, transient_receptor_potential_channel_antagonist: float, tropomyosin_receptor_kinase_inhibitor: float, trpv_agonist: float, trpv_antagonist: float, tubulin_inhibitor: float, tyrosine_kinase_inhibitor: float, ubiquitin_specific_protease_inhibitor: float, vegfr_inhibitor: float, vitamin_b: float, vitamin_d_receptor_agonist: float, wnt_inhibitor: float]"
      ]
     },
     "execution_count": 27,
     "metadata": {},
     "output_type": "execute_result"
    }
   ],
   "source": [
    "final_dt.fit(train).transform(validation)"
   ]
  },
  {
   "cell_type": "code",
   "execution_count": 28,
   "metadata": {},
   "outputs": [
    {
     "name": "stdout",
     "output_type": "stream",
     "text": [
      "The validation score after tuning for Decision Tree model is : \n",
      "+--------------------+\n",
      "|               score|\n",
      "+--------------------+\n",
      "|0.020293238203227204|\n",
      "+--------------------+\n",
      "\n"
     ]
    }
   ],
   "source": [
    "print(f'The validation score after tuning for Decision Tree model is : ')\n",
    "final_dt.score().show()"
   ]
  },
  {
   "cell_type": "code",
   "execution_count": 29,
   "metadata": {
    "scrolled": true
   },
   "outputs": [
    {
     "name": "stderr",
     "output_type": "stream",
     "text": [
      "206it [04:29,  1.31s/it]\n",
      "206it [01:34,  2.19it/s]\n"
     ]
    },
    {
     "data": {
      "text/plain": [
       "DataFrame[sig_id: string, 5-alpha_reductase_inhibitor: float, 11-beta-hsd1_inhibitor: float, acat_inhibitor: float, acetylcholine_receptor_agonist: float, acetylcholine_receptor_antagonist: float, acetylcholinesterase_inhibitor: float, adenosine_receptor_agonist: float, adenosine_receptor_antagonist: float, adenylyl_cyclase_activator: float, adrenergic_receptor_agonist: float, adrenergic_receptor_antagonist: float, akt_inhibitor: float, aldehyde_dehydrogenase_inhibitor: float, alk_inhibitor: float, ampk_activator: float, analgesic: float, androgen_receptor_agonist: float, androgen_receptor_antagonist: float, anesthetic_-_local: float, angiogenesis_inhibitor: float, angiotensin_receptor_antagonist: float, anti-inflammatory: float, antiarrhythmic: float, antibiotic: float, anticonvulsant: float, antifungal: float, antihistamine: float, antimalarial: float, antioxidant: float, antiprotozoal: float, antiviral: float, apoptosis_stimulant: float, aromatase_inhibitor: float, atm_kinase_inhibitor: float, atp-sensitive_potassium_channel_antagonist: float, atp_synthase_inhibitor: float, atpase_inhibitor: float, atr_kinase_inhibitor: float, aurora_kinase_inhibitor: float, autotaxin_inhibitor: float, bacterial_30s_ribosomal_subunit_inhibitor: float, bacterial_50s_ribosomal_subunit_inhibitor: float, bacterial_antifolate: float, bacterial_cell_wall_synthesis_inhibitor: float, bacterial_dna_gyrase_inhibitor: float, bacterial_dna_inhibitor: float, bacterial_membrane_integrity_inhibitor: float, bcl_inhibitor: float, bcr-abl_inhibitor: float, benzodiazepine_receptor_agonist: float, beta_amyloid_inhibitor: float, bromodomain_inhibitor: float, btk_inhibitor: float, calcineurin_inhibitor: float, calcium_channel_blocker: float, cannabinoid_receptor_agonist: float, cannabinoid_receptor_antagonist: float, carbonic_anhydrase_inhibitor: float, casein_kinase_inhibitor: float, caspase_activator: float, catechol_o_methyltransferase_inhibitor: float, cc_chemokine_receptor_antagonist: float, cck_receptor_antagonist: float, cdk_inhibitor: float, chelating_agent: float, chk_inhibitor: float, chloride_channel_blocker: float, cholesterol_inhibitor: float, cholinergic_receptor_antagonist: float, coagulation_factor_inhibitor: float, corticosteroid_agonist: float, cyclooxygenase_inhibitor: float, cytochrome_p450_inhibitor: float, dihydrofolate_reductase_inhibitor: float, dipeptidyl_peptidase_inhibitor: float, diuretic: float, dna_alkylating_agent: float, dna_inhibitor: float, dopamine_receptor_agonist: float, dopamine_receptor_antagonist: float, egfr_inhibitor: float, elastase_inhibitor: float, erbb2_inhibitor: float, estrogen_receptor_agonist: float, estrogen_receptor_antagonist: float, faah_inhibitor: float, farnesyltransferase_inhibitor: float, fatty_acid_receptor_agonist: float, fgfr_inhibitor: float, flt3_inhibitor: float, focal_adhesion_kinase_inhibitor: float, free_radical_scavenger: float, fungal_squalene_epoxidase_inhibitor: float, gaba_receptor_agonist: float, gaba_receptor_antagonist: float, gamma_secretase_inhibitor: float, glucocorticoid_receptor_agonist: float, glutamate_inhibitor: float, glutamate_receptor_agonist: float, glutamate_receptor_antagonist: float, gonadotropin_receptor_agonist: float, gsk_inhibitor: float, hcv_inhibitor: float, hdac_inhibitor: float, histamine_receptor_agonist: float, histamine_receptor_antagonist: float, histone_lysine_demethylase_inhibitor: float, histone_lysine_methyltransferase_inhibitor: float, hiv_inhibitor: float, hmgcr_inhibitor: float, hsp_inhibitor: float, igf-1_inhibitor: float, ikk_inhibitor: float, imidazoline_receptor_agonist: float, immunosuppressant: float, insulin_secretagogue: float, insulin_sensitizer: float, integrin_inhibitor: float, jak_inhibitor: float, kit_inhibitor: float, laxative: float, leukotriene_inhibitor: float, leukotriene_receptor_antagonist: float, lipase_inhibitor: float, lipoxygenase_inhibitor: float, lxr_agonist: float, mdm_inhibitor: float, mek_inhibitor: float, membrane_integrity_inhibitor: float, mineralocorticoid_receptor_antagonist: float, monoacylglycerol_lipase_inhibitor: float, monoamine_oxidase_inhibitor: float, monopolar_spindle_1_kinase_inhibitor: float, mtor_inhibitor: float, mucolytic_agent: float, neuropeptide_receptor_antagonist: float, nfkb_inhibitor: float, nicotinic_receptor_agonist: float, nitric_oxide_donor: float, nitric_oxide_production_inhibitor: float, nitric_oxide_synthase_inhibitor: float, norepinephrine_reuptake_inhibitor: float, nrf2_activator: float, opioid_receptor_agonist: float, opioid_receptor_antagonist: float, orexin_receptor_antagonist: float, p38_mapk_inhibitor: float, p-glycoprotein_inhibitor: float, parp_inhibitor: float, pdgfr_inhibitor: float, pdk_inhibitor: float, phosphodiesterase_inhibitor: float, phospholipase_inhibitor: float, pi3k_inhibitor: float, pkc_inhibitor: float, potassium_channel_activator: float, potassium_channel_antagonist: float, ppar_receptor_agonist: float, ppar_receptor_antagonist: float, progesterone_receptor_agonist: float, progesterone_receptor_antagonist: float, prostaglandin_inhibitor: float, prostanoid_receptor_antagonist: float, proteasome_inhibitor: float, protein_kinase_inhibitor: float, protein_phosphatase_inhibitor: float, protein_synthesis_inhibitor: float, protein_tyrosine_kinase_inhibitor: float, radiopaque_medium: float, raf_inhibitor: float, ras_gtpase_inhibitor: float, retinoid_receptor_agonist: float, retinoid_receptor_antagonist: float, rho_associated_kinase_inhibitor: float, ribonucleoside_reductase_inhibitor: float, rna_polymerase_inhibitor: float, serotonin_receptor_agonist: float, serotonin_receptor_antagonist: float, serotonin_reuptake_inhibitor: float, sigma_receptor_agonist: float, sigma_receptor_antagonist: float, smoothened_receptor_antagonist: float, sodium_channel_inhibitor: float, sphingosine_receptor_agonist: float, src_inhibitor: float, steroid: float, syk_inhibitor: float, tachykinin_antagonist: float, tgf-beta_receptor_inhibitor: float, thrombin_inhibitor: float, thymidylate_synthase_inhibitor: float, tlr_agonist: float, tlr_antagonist: float, tnf_inhibitor: float, topoisomerase_inhibitor: float, transient_receptor_potential_channel_antagonist: float, tropomyosin_receptor_kinase_inhibitor: float, trpv_agonist: float, trpv_antagonist: float, tubulin_inhibitor: float, tyrosine_kinase_inhibitor: float, ubiquitin_specific_protease_inhibitor: float, vegfr_inhibitor: float, vitamin_b: float, vitamin_d_receptor_agonist: float, wnt_inhibitor: float]"
      ]
     },
     "execution_count": 29,
     "metadata": {},
     "output_type": "execute_result"
    }
   ],
   "source": [
    "## eval on test set\n",
    "test_dt =  MultiLabelClassifier(clf, labels, 'features', hyperparameters=hyperparameters, method=method)\n",
    "test_dt.fit(cv_train).transform(test)"
   ]
  },
  {
   "cell_type": "code",
   "execution_count": 30,
   "metadata": {
    "scrolled": false
   },
   "outputs": [
    {
     "name": "stdout",
     "output_type": "stream",
     "text": [
      "The test score after tuning for Decision Tree model is : \n",
      "+--------------------+\n",
      "|               score|\n",
      "+--------------------+\n",
      "|0.020260023106331515|\n",
      "+--------------------+\n",
      "\n"
     ]
    }
   ],
   "source": [
    "print(f'The test score after tuning for Decision Tree model is : ')\n",
    "test_dt.score().show()"
   ]
  }
 ],
 "metadata": {
  "kernelspec": {
   "display_name": "Python 3",
   "language": "python",
   "name": "python3"
  },
  "language_info": {
   "codemirror_mode": {
    "name": "ipython",
    "version": 3
   },
   "file_extension": ".py",
   "mimetype": "text/x-python",
   "name": "python",
   "nbconvert_exporter": "python",
   "pygments_lexer": "ipython3",
   "version": "3.8.3"
  }
 },
 "nbformat": 4,
 "nbformat_minor": 4
}
